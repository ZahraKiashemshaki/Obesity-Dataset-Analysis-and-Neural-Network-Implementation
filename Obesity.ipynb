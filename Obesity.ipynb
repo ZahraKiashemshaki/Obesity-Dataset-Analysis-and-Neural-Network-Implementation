{
 "cells": [
  {
   "cell_type": "code",
   "execution_count": 1,
   "id": "129c8956-7fb7-4762-af2e-b47957d47c17",
   "metadata": {},
   "outputs": [],
   "source": [
    "import numpy as np\n",
    "import pandas as pd"
   ]
  },
  {
   "cell_type": "code",
   "execution_count": 3,
   "id": "42a7d4ca-8866-4d49-ab68-3f71dfc819d1",
   "metadata": {},
   "outputs": [],
   "source": [
    "obesity= pd.read_csv('obesity.csv')"
   ]
  },
  {
   "cell_type": "code",
   "execution_count": null,
   "id": "8f4bfdef-d054-45d6-a399-da1690d33e20",
   "metadata": {},
   "outputs": [],
   "source": [
    "obe"
   ]
  }
 ],
 "metadata": {
  "kernelspec": {
   "display_name": "Python 3 (ipykernel)",
   "language": "python",
   "name": "python3"
  },
  "language_info": {
   "codemirror_mode": {
    "name": "ipython",
    "version": 3
   },
   "file_extension": ".py",
   "mimetype": "text/x-python",
   "name": "python",
   "nbconvert_exporter": "python",
   "pygments_lexer": "ipython3",
   "version": "3.11.5"
  }
 },
 "nbformat": 4,
 "nbformat_minor": 5
}
